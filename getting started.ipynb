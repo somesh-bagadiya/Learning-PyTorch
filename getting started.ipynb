{
 "cells": [
  {
   "cell_type": "code",
   "execution_count": 1,
   "id": "675122a9",
   "metadata": {},
   "outputs": [],
   "source": [
    "import torch\n",
    "from torch import nn\n",
    "from torch.utils.data import DataLoader\n",
    "from torchvision import datasets\n",
    "from torchvision.transforms import ToTensor"
   ]
  },
  {
   "cell_type": "code",
   "execution_count": 2,
   "id": "a93f4d65",
   "metadata": {},
   "outputs": [
    {
     "name": "stdout",
     "output_type": "stream",
     "text": [
      "Downloading http://fashion-mnist.s3-website.eu-central-1.amazonaws.com/train-images-idx3-ubyte.gz\n",
      "Downloading http://fashion-mnist.s3-website.eu-central-1.amazonaws.com/train-images-idx3-ubyte.gz to data\\FashionMNIST\\raw\\train-images-idx3-ubyte.gz\n"
     ]
    },
    {
     "name": "stderr",
     "output_type": "stream",
     "text": [
      "100%|██████████| 26421880/26421880 [00:02<00:00, 9143650.95it/s] \n"
     ]
    },
    {
     "name": "stdout",
     "output_type": "stream",
     "text": [
      "Extracting data\\FashionMNIST\\raw\\train-images-idx3-ubyte.gz to data\\FashionMNIST\\raw\n",
      "\n",
      "Downloading http://fashion-mnist.s3-website.eu-central-1.amazonaws.com/train-labels-idx1-ubyte.gz\n",
      "Downloading http://fashion-mnist.s3-website.eu-central-1.amazonaws.com/train-labels-idx1-ubyte.gz to data\\FashionMNIST\\raw\\train-labels-idx1-ubyte.gz\n"
     ]
    },
    {
     "name": "stderr",
     "output_type": "stream",
     "text": [
      "100%|██████████| 29515/29515 [00:00<00:00, 154943.29it/s]\n"
     ]
    },
    {
     "name": "stdout",
     "output_type": "stream",
     "text": [
      "Extracting data\\FashionMNIST\\raw\\train-labels-idx1-ubyte.gz to data\\FashionMNIST\\raw\n",
      "\n",
      "Downloading http://fashion-mnist.s3-website.eu-central-1.amazonaws.com/t10k-images-idx3-ubyte.gz\n",
      "Downloading http://fashion-mnist.s3-website.eu-central-1.amazonaws.com/t10k-images-idx3-ubyte.gz to data\\FashionMNIST\\raw\\t10k-images-idx3-ubyte.gz\n"
     ]
    },
    {
     "name": "stderr",
     "output_type": "stream",
     "text": [
      "100%|██████████| 4422102/4422102 [00:08<00:00, 550294.36it/s] \n"
     ]
    },
    {
     "name": "stdout",
     "output_type": "stream",
     "text": [
      "Extracting data\\FashionMNIST\\raw\\t10k-images-idx3-ubyte.gz to data\\FashionMNIST\\raw\n",
      "\n",
      "Downloading http://fashion-mnist.s3-website.eu-central-1.amazonaws.com/t10k-labels-idx1-ubyte.gz\n",
      "Downloading http://fashion-mnist.s3-website.eu-central-1.amazonaws.com/t10k-labels-idx1-ubyte.gz to data\\FashionMNIST\\raw\\t10k-labels-idx1-ubyte.gz\n"
     ]
    },
    {
     "name": "stderr",
     "output_type": "stream",
     "text": [
      "100%|██████████| 5148/5148 [00:00<00:00, 5137348.80it/s]"
     ]
    },
    {
     "name": "stdout",
     "output_type": "stream",
     "text": [
      "Extracting data\\FashionMNIST\\raw\\t10k-labels-idx1-ubyte.gz to data\\FashionMNIST\\raw\n",
      "\n"
     ]
    },
    {
     "name": "stderr",
     "output_type": "stream",
     "text": [
      "\n"
     ]
    }
   ],
   "source": [
    "# Download training data from open datasets.\n",
    "training_data = datasets.FashionMNIST(\n",
    "    root=\"data\",\n",
    "    train=True,\n",
    "    download=True,\n",
    "    transform=ToTensor(),\n",
    ")\n",
    "\n",
    "# Download test data from open datasets.\n",
    "test_data = datasets.FashionMNIST(\n",
    "    root=\"data\",\n",
    "    train=False,\n",
    "    download=True,\n",
    "    transform=ToTensor(),\n",
    ")"
   ]
  },
  {
   "cell_type": "code",
   "execution_count": 3,
   "id": "05e5f410",
   "metadata": {},
   "outputs": [
    {
     "name": "stdout",
     "output_type": "stream",
     "text": [
      "Shape of X [N, C, H, W]: torch.Size([64, 1, 28, 28])\n",
      "Shape of y: torch.Size([64]) torch.int64\n"
     ]
    }
   ],
   "source": [
    "batch_size = 64\n",
    "\n",
    "# Create data loaders.\n",
    "train_dataloader = DataLoader(training_data, batch_size=batch_size)\n",
    "test_dataloader = DataLoader(test_data, batch_size=batch_size)\n",
    "\n",
    "for X, y in test_dataloader:\n",
    "    print(f\"Shape of X [N, C, H, W]: {X.shape}\")\n",
    "    print(f\"Shape of y: {y.shape} {y.dtype}\")\n",
    "    break"
   ]
  },
  {
   "cell_type": "code",
   "execution_count": 4,
   "id": "0d919d13",
   "metadata": {},
   "outputs": [
    {
     "name": "stdout",
     "output_type": "stream",
     "text": [
      "Using cuda device\n",
      "NeuralNetwork(\n",
      "  (flatten): Flatten(start_dim=1, end_dim=-1)\n",
      "  (linear_relu_stack): Sequential(\n",
      "    (0): Linear(in_features=784, out_features=512, bias=True)\n",
      "    (1): ReLU()\n",
      "    (2): Linear(in_features=512, out_features=512, bias=True)\n",
      "    (3): ReLU()\n",
      "    (4): Linear(in_features=512, out_features=10, bias=True)\n",
      "  )\n",
      ")\n"
     ]
    }
   ],
   "source": [
    "# Get cpu, gpu or mps device for training.\n",
    "device = (\n",
    "    \"cuda\"\n",
    "    if torch.cuda.is_available()\n",
    "    else \"mps\"\n",
    "    if torch.backends.mps.is_available()\n",
    "    else \"cpu\"\n",
    ")\n",
    "print(f\"Using {device} device\")\n",
    "\n",
    "# Define model\n",
    "class NeuralNetwork(nn.Module):\n",
    "    def __init__(self):\n",
    "        super().__init__()\n",
    "        self.flatten = nn.Flatten()\n",
    "        self.linear_relu_stack = nn.Sequential(\n",
    "            nn.Linear(28*28, 512),\n",
    "            nn.ReLU(),\n",
    "            nn.Linear(512, 512),\n",
    "            nn.ReLU(),\n",
    "            nn.Linear(512, 10)\n",
    "        )\n",
    "\n",
    "    def forward(self, x):\n",
    "        x = self.flatten(x)\n",
    "        logits = self.linear_relu_stack(x)\n",
    "        return logits\n",
    "\n",
    "model = NeuralNetwork().to(device)\n",
    "print(model)"
   ]
  },
  {
   "cell_type": "code",
   "execution_count": 5,
   "id": "6fab5cc8",
   "metadata": {},
   "outputs": [],
   "source": [
    "loss_fn = nn.CrossEntropyLoss()\n",
    "optimizer = torch.optim.SGD(model.parameters(), lr=1e-3)"
   ]
  },
  {
   "cell_type": "code",
   "execution_count": 6,
   "id": "773ec113",
   "metadata": {},
   "outputs": [],
   "source": [
    "def train(dataloader, model, loss_fn, optimizer):\n",
    "    size = len(dataloader.dataset)\n",
    "    model.train()\n",
    "    for batch, (X, y) in enumerate(dataloader):\n",
    "        X, y = X.to(device), y.to(device)\n",
    "\n",
    "        # Compute prediction error\n",
    "        pred = model(X)\n",
    "        loss = loss_fn(pred, y)\n",
    "\n",
    "        # Backpropagation\n",
    "        loss.backward()\n",
    "        optimizer.step()\n",
    "        optimizer.zero_grad()\n",
    "\n",
    "        if batch % 100 == 0:\n",
    "            loss, current = loss.item(), (batch + 1) * len(X)\n",
    "            print(f\"loss: {loss:>7f}  [{current:>5d}/{size:>5d}]\")"
   ]
  },
  {
   "cell_type": "code",
   "execution_count": 14,
   "id": "76759ee7",
   "metadata": {},
   "outputs": [],
   "source": [
    "def test(dataloader, model, loss_fn):\n",
    "    size = len(dataloader.dataset)\n",
    "    num_batches = len(dataloader)\n",
    "    model.eval()\n",
    "    test_loss, correct = 0, 0\n",
    "    with torch.no_grad():\n",
    "        for X, y in dataloader:\n",
    "            X, y = X.to(device), y.to(device)\n",
    "            pred = model(X)\n",
    "            test_loss += loss_fn(pred, y).item()\n",
    "            correct += (pred.argmax(1) == y).type(torch.float).sum().item()\n",
    "    test_loss /= num_batches\n",
    "    correct /= size\n",
    "    print(f\"Test Error: \\n Accuracy: {(100*correct):>0.1f}%, Avg loss: {test_loss:>8f} \\n\")"
   ]
  },
  {
   "cell_type": "code",
   "execution_count": 15,
   "id": "b0acee5a",
   "metadata": {
    "scrolled": true
   },
   "outputs": [
    {
     "name": "stdout",
     "output_type": "stream",
     "text": [
      "Epoch 1\n",
      "-------------------------------\n",
      "loss: 0.920006  [   64/60000]\n",
      "loss: 0.961662  [ 6464/60000]\n",
      "loss: 0.765188  [12864/60000]\n",
      "loss: 0.927691  [19264/60000]\n",
      "loss: 0.811323  [25664/60000]\n",
      "loss: 0.829088  [32064/60000]\n",
      "loss: 0.891714  [38464/60000]\n",
      "loss: 0.854427  [44864/60000]\n",
      "loss: 0.894016  [51264/60000]\n",
      "loss: 0.823719  [57664/60000]\n",
      "Test Error: \n",
      " Accuracy: 68.8%, Avg loss: 0.836223 \n",
      "\n",
      "Epoch 2\n",
      "-------------------------------\n",
      "loss: 0.859401  [   64/60000]\n",
      "loss: 0.914553  [ 6464/60000]\n",
      "loss: 0.709907  [12864/60000]\n",
      "loss: 0.884748  [19264/60000]\n",
      "loss: 0.773523  [25664/60000]\n",
      "loss: 0.783261  [32064/60000]\n",
      "loss: 0.853535  [38464/60000]\n",
      "loss: 0.822841  [44864/60000]\n",
      "loss: 0.856764  [51264/60000]\n",
      "loss: 0.790613  [57664/60000]\n",
      "Test Error: \n",
      " Accuracy: 70.1%, Avg loss: 0.800728 \n",
      "\n",
      "Epoch 3\n",
      "-------------------------------\n",
      "loss: 0.810736  [   64/60000]\n",
      "loss: 0.876420  [ 6464/60000]\n",
      "loss: 0.666281  [12864/60000]\n",
      "loss: 0.851698  [19264/60000]\n",
      "loss: 0.744522  [25664/60000]\n",
      "loss: 0.747807  [32064/60000]\n",
      "loss: 0.822434  [38464/60000]\n",
      "loss: 0.798703  [44864/60000]\n",
      "loss: 0.827120  [51264/60000]\n",
      "loss: 0.763818  [57664/60000]\n",
      "Test Error: \n",
      " Accuracy: 71.5%, Avg loss: 0.772116 \n",
      "\n",
      "Epoch 4\n",
      "-------------------------------\n",
      "loss: 0.770009  [   64/60000]\n",
      "loss: 0.843769  [ 6464/60000]\n",
      "loss: 0.630515  [12864/60000]\n",
      "loss: 0.825381  [19264/60000]\n",
      "loss: 0.720759  [25664/60000]\n",
      "loss: 0.719626  [32064/60000]\n",
      "loss: 0.795762  [38464/60000]\n",
      "loss: 0.779195  [44864/60000]\n",
      "loss: 0.802463  [51264/60000]\n",
      "loss: 0.741246  [57664/60000]\n",
      "Test Error: \n",
      " Accuracy: 72.6%, Avg loss: 0.747953 \n",
      "\n",
      "Epoch 5\n",
      "-------------------------------\n",
      "loss: 0.734821  [   64/60000]\n",
      "loss: 0.814775  [ 6464/60000]\n",
      "loss: 0.600279  [12864/60000]\n",
      "loss: 0.803640  [19264/60000]\n",
      "loss: 0.700508  [25664/60000]\n",
      "loss: 0.696604  [32064/60000]\n",
      "loss: 0.772061  [38464/60000]\n",
      "loss: 0.762389  [44864/60000]\n",
      "loss: 0.781091  [51264/60000]\n",
      "loss: 0.721512  [57664/60000]\n",
      "Test Error: \n",
      " Accuracy: 73.7%, Avg loss: 0.726821 \n",
      "\n",
      "Epoch 6\n",
      "-------------------------------\n",
      "loss: 0.703910  [   64/60000]\n",
      "loss: 0.788500  [ 6464/60000]\n",
      "loss: 0.574255  [12864/60000]\n",
      "loss: 0.785086  [19264/60000]\n",
      "loss: 0.682871  [25664/60000]\n",
      "loss: 0.677384  [32064/60000]\n",
      "loss: 0.750355  [38464/60000]\n",
      "loss: 0.747398  [44864/60000]\n",
      "loss: 0.762438  [51264/60000]\n",
      "loss: 0.704033  [57664/60000]\n",
      "Test Error: \n",
      " Accuracy: 74.7%, Avg loss: 0.707893 \n",
      "\n",
      "Epoch 7\n",
      "-------------------------------\n",
      "loss: 0.676524  [   64/60000]\n",
      "loss: 0.764340  [ 6464/60000]\n",
      "loss: 0.551488  [12864/60000]\n",
      "loss: 0.768798  [19264/60000]\n",
      "loss: 0.667215  [25664/60000]\n",
      "loss: 0.661083  [32064/60000]\n",
      "loss: 0.730304  [38464/60000]\n",
      "loss: 0.733889  [44864/60000]\n",
      "loss: 0.745711  [51264/60000]\n",
      "loss: 0.688243  [57664/60000]\n",
      "Test Error: \n",
      " Accuracy: 75.4%, Avg loss: 0.690669 \n",
      "\n",
      "Epoch 8\n",
      "-------------------------------\n",
      "loss: 0.652037  [   64/60000]\n",
      "loss: 0.741975  [ 6464/60000]\n",
      "loss: 0.531467  [12864/60000]\n",
      "loss: 0.754183  [19264/60000]\n",
      "loss: 0.653154  [25664/60000]\n",
      "loss: 0.646857  [32064/60000]\n",
      "loss: 0.711638  [38464/60000]\n",
      "loss: 0.721570  [44864/60000]\n",
      "loss: 0.730660  [51264/60000]\n",
      "loss: 0.673810  [57664/60000]\n",
      "Test Error: \n",
      " Accuracy: 76.1%, Avg loss: 0.674872 \n",
      "\n",
      "Epoch 9\n",
      "-------------------------------\n",
      "loss: 0.630100  [   64/60000]\n",
      "loss: 0.721216  [ 6464/60000]\n",
      "loss: 0.513711  [12864/60000]\n",
      "loss: 0.740919  [19264/60000]\n",
      "loss: 0.640539  [25664/60000]\n",
      "loss: 0.634192  [32064/60000]\n",
      "loss: 0.694291  [38464/60000]\n",
      "loss: 0.710394  [44864/60000]\n",
      "loss: 0.717066  [51264/60000]\n",
      "loss: 0.660536  [57664/60000]\n",
      "Test Error: \n",
      " Accuracy: 76.8%, Avg loss: 0.660304 \n",
      "\n",
      "Epoch 10\n",
      "-------------------------------\n",
      "loss: 0.610520  [   64/60000]\n",
      "loss: 0.702029  [ 6464/60000]\n",
      "loss: 0.497767  [12864/60000]\n",
      "loss: 0.728722  [19264/60000]\n",
      "loss: 0.629206  [25664/60000]\n",
      "loss: 0.622832  [32064/60000]\n",
      "loss: 0.678209  [38464/60000]\n",
      "loss: 0.700409  [44864/60000]\n",
      "loss: 0.704958  [51264/60000]\n",
      "loss: 0.648244  [57664/60000]\n",
      "Test Error: \n",
      " Accuracy: 77.4%, Avg loss: 0.646919 \n",
      "\n",
      "Done!\n"
     ]
    }
   ],
   "source": [
    "epochs = 10\n",
    "for t in range(epochs):\n",
    "    print(f\"Epoch {t+1}\\n-------------------------------\")\n",
    "    train(train_dataloader, model, loss_fn, optimizer)\n",
    "    test(test_dataloader, model, loss_fn)\n",
    "print(\"Done!\")"
   ]
  },
  {
   "cell_type": "code",
   "execution_count": 16,
   "id": "6c9fe479",
   "metadata": {},
   "outputs": [
    {
     "name": "stdout",
     "output_type": "stream",
     "text": [
      "Saved PyTorch Model State to model.pth\n"
     ]
    }
   ],
   "source": [
    "torch.save(model.state_dict(), \"model.pth\")\n",
    "print(\"Saved PyTorch Model State to model.pth\")"
   ]
  },
  {
   "cell_type": "code",
   "execution_count": 17,
   "id": "ded14f8f",
   "metadata": {},
   "outputs": [
    {
     "data": {
      "text/plain": [
       "<All keys matched successfully>"
      ]
     },
     "execution_count": 17,
     "metadata": {},
     "output_type": "execute_result"
    }
   ],
   "source": [
    "model = NeuralNetwork().to(device)\n",
    "model.load_state_dict(torch.load(\"model.pth\"))"
   ]
  },
  {
   "cell_type": "code",
   "execution_count": 18,
   "id": "5a76c6ba",
   "metadata": {},
   "outputs": [
    {
     "name": "stdout",
     "output_type": "stream",
     "text": [
      "Predicted: \"Ankle boot\", Actual: \"Ankle boot\"\n"
     ]
    }
   ],
   "source": [
    "classes = [\n",
    "    \"T-shirt/top\",\n",
    "    \"Trouser\",\n",
    "    \"Pullover\",\n",
    "    \"Dress\",\n",
    "    \"Coat\",\n",
    "    \"Sandal\",\n",
    "    \"Shirt\",\n",
    "    \"Sneaker\",\n",
    "    \"Bag\",\n",
    "    \"Ankle boot\",\n",
    "]\n",
    "\n",
    "model.eval()\n",
    "x, y = test_data[0][0], test_data[0][1]\n",
    "with torch.no_grad():\n",
    "    x = x.to(device)\n",
    "    pred = model(x)\n",
    "    predicted, actual = classes[pred[0].argmax(0)], classes[y]\n",
    "    print(f'Predicted: \"{predicted}\", Actual: \"{actual}\"')"
   ]
  },
  {
   "cell_type": "code",
   "execution_count": 19,
   "id": "4d31d199",
   "metadata": {},
   "outputs": [
    {
     "name": "stdout",
     "output_type": "stream",
     "text": [
      "Saving model to: models\\01_pytorch_workflow_model_0.pth\n"
     ]
    },
    {
     "ename": "NameError",
     "evalue": "name 'model_0' is not defined",
     "output_type": "error",
     "traceback": [
      "\u001b[1;31m---------------------------------------------------------------------------\u001b[0m",
      "\u001b[1;31mNameError\u001b[0m                                 Traceback (most recent call last)",
      "Cell \u001b[1;32mIn[19], line 13\u001b[0m\n\u001b[0;32m     11\u001b[0m \u001b[38;5;66;03m# 3. Save the model state dict \u001b[39;00m\n\u001b[0;32m     12\u001b[0m \u001b[38;5;28mprint\u001b[39m(\u001b[38;5;124mf\u001b[39m\u001b[38;5;124m\"\u001b[39m\u001b[38;5;124mSaving model to: \u001b[39m\u001b[38;5;132;01m{\u001b[39;00mMODEL_SAVE_PATH\u001b[38;5;132;01m}\u001b[39;00m\u001b[38;5;124m\"\u001b[39m)\n\u001b[1;32m---> 13\u001b[0m torch\u001b[38;5;241m.\u001b[39msave(obj\u001b[38;5;241m=\u001b[39mmodel_0\u001b[38;5;241m.\u001b[39mstate_dict(), \u001b[38;5;66;03m# only saving the state_dict() only saves the models learned parameters\u001b[39;00m\n\u001b[0;32m     14\u001b[0m            f\u001b[38;5;241m=\u001b[39mMODEL_SAVE_PATH)\n",
      "\u001b[1;31mNameError\u001b[0m: name 'model_0' is not defined"
     ]
    }
   ],
   "source": []
  },
  {
   "cell_type": "code",
   "execution_count": null,
   "id": "8f8cd543",
   "metadata": {},
   "outputs": [],
   "source": []
  }
 ],
 "metadata": {
  "kernelspec": {
   "display_name": "Python 3 (ipykernel)",
   "language": "python",
   "name": "python3"
  },
  "language_info": {
   "codemirror_mode": {
    "name": "ipython",
    "version": 3
   },
   "file_extension": ".py",
   "mimetype": "text/x-python",
   "name": "python",
   "nbconvert_exporter": "python",
   "pygments_lexer": "ipython3",
   "version": "3.11.7"
  },
  "varInspector": {
   "cols": {
    "lenName": 16,
    "lenType": 16,
    "lenVar": 40
   },
   "kernels_config": {
    "python": {
     "delete_cmd_postfix": "",
     "delete_cmd_prefix": "del ",
     "library": "var_list.py",
     "varRefreshCmd": "print(var_dic_list())"
    },
    "r": {
     "delete_cmd_postfix": ") ",
     "delete_cmd_prefix": "rm(",
     "library": "var_list.r",
     "varRefreshCmd": "cat(var_dic_list()) "
    }
   },
   "types_to_exclude": [
    "module",
    "function",
    "builtin_function_or_method",
    "instance",
    "_Feature"
   ],
   "window_display": false
  }
 },
 "nbformat": 4,
 "nbformat_minor": 5
}
